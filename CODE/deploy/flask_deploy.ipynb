{
 "cells": [
  {
   "cell_type": "code",
   "execution_count": null,
   "id": "75e564ea",
   "metadata": {},
   "outputs": [
    {
     "name": "stdout",
     "output_type": "stream",
     "text": [
      " * Serving Flask app \"__main__\" (lazy loading)\n",
      " * Environment: production\n",
      "\u001b[31m   WARNING: This is a development server. Do not use it in a production deployment.\u001b[0m\n",
      "\u001b[2m   Use a production WSGI server instead.\u001b[0m\n",
      " * Debug mode: off\n"
     ]
    },
    {
     "name": "stderr",
     "output_type": "stream",
     "text": [
      " * Running on http://localhost:8000/ (Press CTRL+C to quit)\n",
      "127.0.0.1 - - [15/Jun/2022 12:36:43] \"GET / HTTP/1.1\" 200 -\n",
      "127.0.0.1 - - [15/Jun/2022 12:36:43] \"GET /favicon.ico HTTP/1.1\" 404 -\n",
      "127.0.0.1 - - [15/Jun/2022 12:36:48] \"POST /in11 HTTP/1.1\" 200 -\n",
      "127.0.0.1 - - [15/Jun/2022 13:00:47] \"POST /in11 HTTP/1.1\" 200 -\n",
      "127.0.0.1 - - [15/Jun/2022 13:01:25] \"POST /predict HTTP/1.1\" 200 -\n"
     ]
    },
    {
     "name": "stdout",
     "output_type": "stream",
     "text": [
      "[array(['-1', '-1', '-1', '-1', '-1', '0', '1', '1', '1'], dtype='<U2')]\n",
      "[1]\n"
     ]
    },
    {
     "name": "stderr",
     "output_type": "stream",
     "text": [
      "127.0.0.1 - - [15/Jun/2022 13:01:37] \"POST /in11 HTTP/1.1\" 200 -\n",
      "127.0.0.1 - - [15/Jun/2022 13:02:11] \"POST /predict HTTP/1.1\" 200 -\n"
     ]
    },
    {
     "name": "stdout",
     "output_type": "stream",
     "text": [
      "[array(['1', '-1', '1', '-1', '-1', '1', '1', '1', '0'], dtype='<U2')]\n",
      "[0]\n"
     ]
    },
    {
     "name": "stderr",
     "output_type": "stream",
     "text": [
      "127.0.0.1 - - [15/Jun/2022 13:02:36] \"POST /in11 HTTP/1.1\" 200 -\n",
      "127.0.0.1 - - [15/Jun/2022 13:03:04] \"POST /predict HTTP/1.1\" 200 -\n"
     ]
    },
    {
     "name": "stdout",
     "output_type": "stream",
     "text": [
      "[array(['1', '0', '1', '0', '1', '1', '0', '-1', '0'], dtype='<U2')]\n",
      "[-1]\n"
     ]
    },
    {
     "name": "stderr",
     "output_type": "stream",
     "text": [
      "127.0.0.1 - - [15/Jun/2022 13:03:36] \"POST /in11 HTTP/1.1\" 200 -\n"
     ]
    }
   ],
   "source": [
    "import numpy as np\n",
    "from flask import Flask, request, jsonify, render_template\n",
    "import pickle\n",
    "import joblib\n",
    "\n",
    "app = Flask(__name__)\n",
    "model = joblib.load('rf.pkl')\n",
    "@app.route('/')\n",
    "def home():\n",
    "    return render_template('index.html')\n",
    "@app.route('/in11',methods=['POST'])\n",
    "def in11():\n",
    "    return render_template('in11.html')\n",
    "@app.route('/predict',methods=['POST'])\n",
    "def predict():\n",
    "    \n",
    "    '''\n",
    "    For rendering results on HTML GUI\n",
    "    '''\n",
    "    int_features = [(x) for x in request.form.values()]\n",
    "    final_features = [np.array(int_features)]\n",
    "    print(final_features)\n",
    "    prediction = model.predict(final_features)\n",
    "    print(prediction)\n",
    "    output = prediction[0]\n",
    "    if output == 1:\n",
    "        return render_template('Good.html', prediction_text='Good')\n",
    "    elif output== -1:\n",
    "        return render_template('Phishy.html', prediction_text='Phishy')\n",
    "    else:\n",
    "        return render_template('Suspicious.html', prediction_text='Suspicious')\n",
    "    return redirect(request.url)\n",
    "    print(output)\n",
    "if __name__ == \"__main__\":\n",
    "    app.run(host=\"localhost\", port=8000)"
   ]
  },
  {
   "cell_type": "code",
   "execution_count": null,
   "id": "b21a781a",
   "metadata": {},
   "outputs": [],
   "source": []
  },
  {
   "cell_type": "code",
   "execution_count": null,
   "id": "e24d5e9f",
   "metadata": {},
   "outputs": [],
   "source": []
  }
 ],
 "metadata": {
  "kernelspec": {
   "display_name": "Python 3 (ipykernel)",
   "language": "python",
   "name": "python3"
  },
  "language_info": {
   "codemirror_mode": {
    "name": "ipython",
    "version": 3
   },
   "file_extension": ".py",
   "mimetype": "text/x-python",
   "name": "python",
   "nbconvert_exporter": "python",
   "pygments_lexer": "ipython3",
   "version": "3.9.7"
  }
 },
 "nbformat": 4,
 "nbformat_minor": 5
}
